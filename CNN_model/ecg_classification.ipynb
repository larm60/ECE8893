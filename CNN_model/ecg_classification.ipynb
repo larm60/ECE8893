{
  "cells": [
    {
      "cell_type": "markdown",
      "metadata": {
        "id": "buqfyFLLcFTX"
      },
      "source": [
        "# ECG Classification\n",
        "This notebook contain all the code necessary to handle data, define model and train it, and run tests. It uses data from MIT-BIH dataset (available online) and follows [1] for model definition and some hyper parameters selection.\n",
        "\n",
        "One note is that notebooks are not intended for this purpose. It is well suited for short lines of code and displaying and transferring information between developers and users. For best results, define .py files and run experiments through console. \n",
        "\n",
        "[1] Kachuee, Mohammad, Shayan Fazeli, and Majid Sarrafzadeh. \"Ecg heartbeat classification: A deep transferable representation.\" 2018 IEEE International Conference on Healthcare Informatics (ICHI). IEEE, 2018.\n",
        "\n",
        "## Preliminary work\n",
        "We first import all packages required for this code to work. As always, we use PyTorch.\n",
        "We set manual randomization seeds to negate randomness between running. This makes random number generators predictable (but still random).\n"
      ]
    },
    {
      "cell_type": "code",
      "execution_count": 2,
      "metadata": {
        "id": "gaaVLGFIcFTd"
      },
      "outputs": [],
      "source": [
        "import numpy as np \n",
        "import pandas as pd \n",
        "import matplotlib.pyplot as plt\n",
        "from sklearn.metrics import accuracy_score, classification_report\n",
        "from scipy.signal import resample\n",
        "import random\n",
        "np.random.seed(42)\n",
        "\n",
        "import torch\n",
        "import torch.nn as nn\n",
        "from torch.optim import Adam\n",
        "\n",
        "torch.manual_seed(42)\n",
        "torch.backends.cudnn.benchmark = False"
      ]
    },
    {
      "cell_type": "markdown",
      "metadata": {
        "id": "5goWyhnIcFTf"
      },
      "source": [
        "The following code will make graphs a bit easier to read and display."
      ]
    },
    {
      "cell_type": "code",
      "execution_count": 3,
      "metadata": {
        "id": "8_8IrlTTcFTf"
      },
      "outputs": [],
      "source": [
        "params = {'legend.fontsize': 'x-large',\n",
        "          'figure.figsize': (10, 5),\n",
        "         'axes.labelsize': 'x-large',\n",
        "         'axes.titlesize':'x-large',\n",
        "         'xtick.labelsize':'x-large',\n",
        "         'ytick.labelsize':'x-large',\n",
        "         'axes.grid':True,\n",
        "         'axes.grid.which':'both'\n",
        "         }\n",
        "plt.rcParams.update(params)"
      ]
    },
    {
      "cell_type": "markdown",
      "metadata": {
        "id": "3U-WE_e_cFTg"
      },
      "source": [
        "## Read Dataset\n",
        "The default dataset comes in two sets - Training set and Testing set. We combine the two and redistribute to three sets."
      ]
    },
    {
      "cell_type": "code",
      "execution_count": 4,
      "metadata": {
        "_cell_guid": "79c7e3d0-c299-4dcb-8224-4455121ee9b0",
        "_uuid": "d629ff2d2480ee46fbb7e2d37f6b5fab8052498a",
        "id": "6ggxs_pMcFTh"
      },
      "outputs": [],
      "source": [
        "df = pd.read_csv(\"/Users/daniela/Library/CloudStorage/OneDrive-GeorgiaInstituteofTechnology/Spring 2023/FPGA/Project/archive/mitbih_train.csv\", header=None)\n",
        "df2 = pd.read_csv(\"/Users/daniela/Library/CloudStorage/OneDrive-GeorgiaInstituteofTechnology/Spring 2023/FPGA/Project/archive/mitbih_test.csv\", header=None)\n",
        "# df = pd.concat([df, df2], axis=0)\n",
        "df = df.reset_index().drop('index', axis='columns')"
      ]
    },
    {
      "cell_type": "code",
      "execution_count": 5,
      "metadata": {
        "id": "fcd9q2bZcFTk"
      },
      "outputs": [],
      "source": [
        "label_names = {0 : 'N',\n",
        "              1: 'S',\n",
        "              2: 'V',\n",
        "              3: 'F',\n",
        "              4 : 'Q'}"
      ]
    },
    {
      "cell_type": "markdown",
      "metadata": {
        "_uuid": "c269ab78773e4b5a960a5e55d2b48c53d5f9c446",
        "id": "7UVs-rWRcFTo"
      },
      "source": [
        "## Data augmentation\n",
        "\n",
        "To train properly the model, we sould have to augment all data to the same level. We define two augmentations and wrapper classes for easy use.\n",
        "Note that the augmentations are randomly random - so we get two levels of randomness in new input generation."
      ]
    },
    {
      "cell_type": "code",
      "execution_count": 6,
      "metadata": {
        "_uuid": "a332bfa2765ee6f5d49320c9d8f0b9c5795a4843",
        "id": "VaFBheJvcFTo"
      },
      "outputs": [],
      "source": [
        "def stretch(x):\n",
        "    l = int(187 * (1 + (random.random()-0.5)/3))\n",
        "    y = resample(x, l)\n",
        "    if l < 187:\n",
        "        y_ = np.zeros(shape=(187, ))\n",
        "        y_[:l] = y\n",
        "    else:\n",
        "        y_ = y[:187]\n",
        "    return y_\n",
        "\n",
        "def amplify(x):\n",
        "    alpha = (random.random()-0.5)\n",
        "    factor = -alpha*x + (1+alpha)\n",
        "    return x*factor\n",
        "\n",
        "\n",
        "class Stretch:\n",
        "    def __init__(self):\n",
        "        pass\n",
        "    \n",
        "    def __call__(self,x):\n",
        "        return stretch(x)\n",
        "    \n",
        "    def __repr__(self):\n",
        "        return 'Stretch'\n",
        "    \n",
        "class Amplify:\n",
        "    def __init__(self):\n",
        "        pass\n",
        "    \n",
        "    def __call__(self,x):\n",
        "        return amplify(x)\n",
        "    \n",
        "    def __repr__(self):\n",
        "        return 'Amplify'\n",
        "\n",
        "class Augment:\n",
        "    def __init__(self, augmentation_list, return_prints = False):\n",
        "        self.augmentation_list = augmentation_list\n",
        "        self.return_prints = return_prints\n",
        "        \n",
        "    def __call__(self, x):\n",
        "        augmentations_performed = ''\n",
        "        \n",
        "        for augmentation in self.augmentation_list:\n",
        "            if np.random.binomial(1, 0.5) == 1:\n",
        "                x = augmentation(x)\n",
        "                augmentations_performed += f'{augmentation} '\n",
        "                \n",
        "        if not self.return_prints:\n",
        "            return x\n",
        "        return x, augmentations_performed\n",
        "\n"
      ]
    },
    {
      "cell_type": "markdown",
      "metadata": {
        "_uuid": "c42605d020fd51885437f4af3cf10cebbeafc9bb",
        "id": "V-4VyRMrcFTp"
      },
      "source": [
        "## Split Dataset into Train-, Validation- and Test-set\n",
        "\n",
        "Next we devide the data to three sets - train set, validation set and test set - but we do so such that the probability of every class in each set is similar to the probability in the undivided set."
      ]
    },
    {
      "cell_type": "code",
      "execution_count": 7,
      "metadata": {
        "colab": {
          "base_uri": "https://localhost:8080/"
        },
        "id": "s22ppTzucFTp",
        "outputId": "7dbcee62-e21f-4204-c3fd-96c18b175c1a"
      },
      "outputs": [
        {
          "name": "stdout",
          "output_type": "stream",
          "text": [
            "70043 0.7999977156954565\n",
            "0.0    0.827734\n",
            "4.0    0.073455\n",
            "2.0    0.066102\n",
            "1.0    0.025384\n",
            "3.0    0.007324\n",
            "Name: 187, dtype: float64\n",
            "\n",
            "\n",
            "17511 0.20000228430454348\n",
            "0.0    0.827708\n",
            "4.0    0.073440\n",
            "2.0    0.066130\n",
            "1.0    0.025413\n",
            "3.0    0.007310\n",
            "Name: 187, dtype: float64\n",
            "\n",
            "\n",
            "21892 0.25003997532951094\n",
            "0.0    0.827608\n",
            "4.0    0.073451\n",
            "2.0    0.066143\n",
            "1.0    0.025397\n",
            "3.0    0.007400\n",
            "Name: 187, dtype: float64\n",
            "\n",
            "\n"
          ]
        }
      ],
      "source": [
        "from sklearn.model_selection import train_test_split\n",
        "\n",
        "# train_df, test_val_df = train_test_split(df, train_size=0.9, stratify=df.iloc[:,-1])\n",
        "# val_df, test_df = train_test_split(test_val_df, test_size=0.5, stratify=test_val_df.iloc[:,-1])\n",
        "\n",
        "train_df, val_df = train_test_split(df, train_size=0.8, stratify=df.iloc[:,-1])\n",
        "test_df = df2\n",
        "# Make sure the target distribution stays the same...\n",
        "for temp_df in [train_df, val_df, test_df]:\n",
        "    print(temp_df.shape[0], temp_df.shape[0] / df.shape[0])\n",
        "    print(temp_df.iloc[:,-1].value_counts(normalize=True))\n",
        "    print('\\n')"
      ]
    },
    {
      "cell_type": "markdown",
      "metadata": {
        "id": "lty95Ps8cFTq"
      },
      "source": [
        "Note the probabilities! "
      ]
    },
    {
      "cell_type": "markdown",
      "metadata": {
        "id": "9dzu198NcFTq"
      },
      "source": [
        "### Undersample the over-represented\n",
        "There is a huge imbalance. The model can easily diminish the loss by ignoring everything other than class 0.\n",
        "There are several ways to handle this - oversample, undersample, bootstrapping etc.\n",
        "First, we look at the distribution of samples in the training set:"
      ]
    },
    {
      "cell_type": "markdown",
      "metadata": {
        "id": "ZVs3oTRmcFTq"
      },
      "source": [
        "Next we take the over represented class (N) and sample 5000 samples, randomly. These will be used for training and the rest are ignored."
      ]
    },
    {
      "cell_type": "code",
      "execution_count": 8,
      "metadata": {
        "colab": {
          "base_uri": "https://localhost:8080/",
          "height": 507
        },
        "id": "rlXoZ-h5cFTq",
        "outputId": "cbcc5c0f-195d-4862-96d2-2c70b4ec5eff"
      },
      "outputs": [
        {
          "name": "stderr",
          "output_type": "stream",
          "text": [
            "/var/folders/v4/jjwmcn596mdfrxzdn2dhp_540000gn/T/ipykernel_46146/623412903.py:4: FutureWarning: The frame.append method is deprecated and will be removed from pandas in a future version. Use pandas.concat instead.\n",
            "  train_df = non_normal_rows.append(normal_rows)\n"
          ]
        },
        {
          "data": {
            "text/plain": [
              "187\n",
              "0.0    5000\n",
              "1.0    1778\n",
              "2.0    4630\n",
              "3.0     513\n",
              "4.0    5145\n",
              "dtype: int64"
            ]
          },
          "execution_count": 8,
          "metadata": {},
          "output_type": "execute_result"
        },
        {
          "data": {
            "image/png": "[encoded data removed]",
            "text/plain": [
              "<Figure size 1000x500 with 1 Axes>"
            ]
          },
          "metadata": {},
          "output_type": "display_data"
        }
      ],
      "source": [
        "non_normal_rows = train_df.loc[train_df.iloc[:,-1] != 0]\n",
        "normal_rows = train_df.loc[train_df.iloc[:,-1] == 0].sample(5000)\n",
        "\n",
        "train_df = non_normal_rows.append(normal_rows)\n",
        "\n",
        "col = train_df.groupby(187).size()\n",
        "(col / col.sum()).plot.bar()\n",
        "col\n"
      ]
    },
    {
      "cell_type": "markdown",
      "metadata": {
        "_uuid": "c4de23b85abe34a726eab268171da0e827bafa35",
        "id": "m9lTFuVwcFTq"
      },
      "source": [
        "## Build Model\n",
        "We model the network from the article:"
      ]
    },
    {
      "cell_type": "markdown",
      "metadata": {
        "id": "NTi35r2ccFTr"
      },
      "source": [
        "![image.png](attachment:image.png)"
      ]
    },
    {
      "cell_type": "markdown",
      "metadata": {
        "id": "P9I65DePcFTr"
      },
      "source": [
        "\n",
        "\n",
        "```\n",
        "# 此内容为代码格式\n",
        "```\n",
        "\n",
        "In code, it looks like this:"
      ]
    },
    {
      "cell_type": "code",
      "execution_count": 10,
      "metadata": {
        "id": "iJh7Uh6icFTr"
      },
      "outputs": [],
      "source": [
        "# class A(nn.Module):\n",
        "#     def __init__(self):\n",
        "#         super().__init__()\n",
        "        \n",
        "#         self.intro_bn = nn.BatchNorm1d(32)\n",
        "    \n",
        "#         self.C11 = nn.Conv1d(32, 32, kernel_size=5, padding=2)\n",
        "#         self.A11 = nn.ReLU()\n",
        "#         self.C12 = nn.Conv1d(32, 32, kernel_size=5, padding=2)\n",
        "#         self.A12 = nn.ReLU()\n",
        "#         self.M11 = nn.MaxPool1d(kernel_size=5, stride=2) #stide usually 2\n",
        "\n",
        "#     def forward(self, x):\n",
        "#         x = self.intro_bn(x)\n",
        "#         print(\"intro \")\n",
        "#         print(x.shape)\n",
        "#         C = x\n",
        "#         x = self.C11(x)\n",
        "#         x = self.A11(x)\n",
        "#         print(\"c1 \")\n",
        "#         print(x.shape)\n",
        "#         x = self.C12(x)\n",
        "#         x = x + C\n",
        "#         x = self.A12(x)\n",
        "#         print(\"a2 \")\n",
        "#         print(x.shape)\n",
        "#         x = self.M11(x)\n",
        "#         print(\"m \")\n",
        "#         print(x.shape)\n",
        "        \n",
        "#         return x\n",
        "    \n",
        "# class Model(nn.Module):\n",
        "#     def __init__(self):\n",
        "#         super().__init__()\n",
        "        \n",
        "#         self.conv_in = nn.Conv1d(1, 32, kernel_size=5) #32 is filter size\n",
        "        \n",
        "#         self.A_blocks = nn.ModuleList(A() for i in range(5))\n",
        "        \n",
        "#         self.avg_pool = nn.AvgPool1d(2)\n",
        "#         self.fc1 = nn.Linear(320,80)\n",
        "#         self.acc1 = nn.ReLU()\n",
        "#         self.fc2 = nn.Linear(80,5)\n",
        "        \n",
        "#     def forward(self, x):\n",
        "#         x = self.conv_in(x)\n",
        "        \n",
        "#         for i in range(5):\n",
        "#             x = self.A_blocks[i](x)\n",
        "#             #print(x.shape)\n",
        "        \n",
        "#         x = self.avg_pool(x)\n",
        "#         x = x.view(x.shape[0], -1)\n",
        "#         x = self.fc1(x)\n",
        "#         x = self.acc1(x)\n",
        "#         x = self.fc2(x)\n",
        "        \n",
        "#         return x\n",
        "    \n",
        "  \n",
        "    "
      ]
    },
    {
      "cell_type": "code",
      "execution_count": 23,
      "metadata": {
        "id": "D3EnI2hWCwsa"
      },
      "outputs": [],
      "source": [
        "class Model(nn.Module):\n",
        "    def __init__(self):\n",
        "        super().__init__()\n",
        "        \n",
        "        self.conv1 = nn.Conv1d(1, 32, kernel_size=5, padding='same')   \n",
        "        self.max1 = nn.MaxPool1d(kernel_size=5, stride=2) \n",
        "        self.conv2 = nn.Conv1d(32, 32, kernel_size=5, padding = 'same')\n",
        "        self.max2 = nn.MaxPool1d(kernel_size=5, stride=2) \n",
        "        self.conv3 = nn.Conv1d(32, 32, kernel_size=5, padding = 'same')\n",
        "        self.max3 = nn.MaxPool1d(kernel_size=5, stride=2) \n",
        "        self.conv4 = nn.Conv1d(32, 32, kernel_size=5, padding = 'same')\n",
        "        self.max4 = nn.MaxPool1d(kernel_size=5, stride=2) \n",
        "\n",
        "        self.avg = nn.AvgPool1d(2)\n",
        "        self.max5 = nn.AdaptiveMaxPool1d(2)\n",
        "\n",
        "        self.dense1 = nn.Linear(64,32)\n",
        "        self.acc = nn.ReLU()\n",
        "        self.dense2 = nn.Linear(32,5)\n",
        "        \n",
        "    def forward(self, x):\n",
        "        #print(x.shape)\n",
        "        x = self.conv1(x)\n",
        "        #print(x.shape)\n",
        "        x = self.acc(x)\n",
        "        x = self.max1(x)\n",
        "        x = self.conv2(x)\n",
        "        x = self.acc(x)\n",
        "        x = self.max2(x)\n",
        "        x = self.conv3(x)\n",
        "        x = self.acc(x)\n",
        "        x = self.conv4(x)\n",
        "        x = self.acc(x)\n",
        "        x = self.max4(x)\n",
        "\n",
        "        x=self.max5(x)#global maxpool\n",
        "        x = x.view(x.shape[0], -1) #flattens\n",
        "\n",
        "        x = self.dense1(x)\n",
        "        x = self.acc(x)\n",
        "        x = self.dense2(x)\n",
        "        \n",
        "        return x\n"
      ]
    },
    {
      "cell_type": "markdown",
      "metadata": {
        "id": "E3L6LbWycFTr"
      },
      "source": [
        "For convenience, we define the recurring module as \"A\" and use it as a list of modules in the Model class.\n",
        "Now for the hyperparameters. These are chosen by the developer according to the performance on the validation set."
      ]
    },
    {
      "cell_type": "code",
      "execution_count": 24,
      "metadata": {
        "id": "Xu_h5ezrcFTr"
      },
      "outputs": [],
      "source": [
        "batch_size = 256\n",
        "epochs = 10 # 75\n",
        "lr = 1e-3\n",
        "device = 'cuda' if torch.cuda.is_available() else 'cpu'\n",
        "n_splits = 10#7"
      ]
    },
    {
      "cell_type": "markdown",
      "metadata": {
        "id": "wAoGOZPkcFTr"
      },
      "source": [
        "Notice the Use of 'cuda': this is the driver connecting us to the graphical processing unit (GPU). Moving a model to the GPU means that it uses the GPU memory and that any operation done will be done by the GPU (not the CPU). Any mathematical operation between two variables requires the two to be on the same device - RAM or GPU RAM.\n",
        "\n",
        "Now we define helper methods for data handling. These will be very helpfull to divide the data to batches, shuffle and randomize and do computations in parallel. Since this is very pytorch-specific, there is no need to dive into it."
      ]
    },
    {
      "cell_type": "code",
      "execution_count": 25,
      "metadata": {
        "id": "NH2MBU5ScFTr"
      },
      "outputs": [],
      "source": [
        "from torch.utils.data import Dataset, DataLoader\n",
        "\n",
        "class ds(Dataset):\n",
        "  def __init__(self, x, y=None, transforms=None):\n",
        "    super().__init__()\n",
        "\n",
        "    self.X = x\n",
        "    self.Y = y\n",
        "    self.transforms = transforms\n",
        "\n",
        "  def __len__(self):\n",
        "    return self.X.shape[0]\n",
        "\n",
        "  def __getitem__(self,idx):\n",
        "    x = self.X.iloc[idx,:]\n",
        "    \n",
        "    if self.transforms is not None:\n",
        "        x = self.transforms(x)\n",
        "\n",
        "    if self.Y is not None:\n",
        "      return torch.Tensor(x).view(1,-1).float(), torch.Tensor([self.Y.iloc[idx]]).float().squeeze()\n",
        "\n",
        "    return torch.Tensor(x).float()\n",
        "\n",
        "augment = Augment([Amplify(), Stretch()])\n",
        "\n",
        "train_set = ds(train_df.iloc[:,:-1], train_df.iloc[:,-1], transforms=augment)\n",
        "val_set = ds(val_df.iloc[:,:-1], val_df.iloc[:,-1])\n",
        "\n",
        "train_loader = DataLoader(train_set, batch_size=batch_size, shuffle=True)\n",
        "val_loader = DataLoader(val_set, batch_size=batch_size*4)"
      ]
    },
    {
      "cell_type": "markdown",
      "metadata": {
        "id": "XaKpaC1XcFTs"
      },
      "source": [
        "Note we take special care to not accidently send the label to the model (column -1)."
      ]
    },
    {
      "cell_type": "markdown",
      "metadata": {
        "id": "ApTHV2xCcFTs"
      },
      "source": [
        "## Train Model\n",
        "All that remains is to define the model (and transfer it to the right device), an optimizer and train."
      ]
    },
    {
      "cell_type": "code",
      "execution_count": 26,
      "metadata": {
        "id": "6ae1hX05cFTs"
      },
      "outputs": [],
      "source": [
        "# model = Model().to(device)\n",
        "\n",
        "criterion = nn.CrossEntropyLoss()\n",
        "# optimizer = torch.optim.Adam(model.parameters(), lr=lr)\n",
        "\n",
        "from torch.optim.lr_scheduler import ReduceLROnPlateau\n",
        "# lr_sched = ReduceLROnPlateau(optimizer, patience=3) # None for a manual LR regimen"
      ]
    },
    {
      "cell_type": "markdown",
      "metadata": {
        "id": "WqoY4UbWcFTs"
      },
      "source": [
        "Here we use Adam optimizer, which converges faster better than SGD. The learning rate is defined ahead.\n"
      ]
    },
    {
      "cell_type": "code",
      "execution_count": 27,
      "metadata": {
        "colab": {
          "base_uri": "https://localhost:8080/"
        },
        "id": "s8ggP1MfcFTs",
        "outputId": "55beb4d6-088e-47d9-efd2-f220530211c6"
      },
      "outputs": [
        {
          "name": "stdout",
          "output_type": "stream",
          "text": [
            "Fold 0 Epoch 0:\tTrain loss: 6.10e-01\tVal loss: 7.99e-02 \tLR: 1.00e-03\n",
            "Fold 0 Epoch 1:\tTrain loss: 3.30e-01\tVal loss: 6.46e-02 \tLR: 1.00e-03\n",
            "Fold 0 Epoch 2:\tTrain loss: 2.60e-01\tVal loss: 8.14e-02 \tLR: 1.00e-03\n",
            "Fold 0 Epoch 3:\tTrain loss: 2.19e-01\tVal loss: 7.63e-02 \tLR: 1.00e-03\n",
            "Fold 0 Epoch 4:\tTrain loss: 1.92e-01\tVal loss: 5.87e-02 \tLR: 1.00e-03\n",
            "Fold 0 Epoch 5:\tTrain loss: 1.72e-01\tVal loss: 3.49e-02 \tLR: 1.00e-03\n",
            "Fold 0 Epoch 6:\tTrain loss: 1.61e-01\tVal loss: 3.37e-02 \tLR: 1.00e-03\n",
            "Fold 0 Epoch 7:\tTrain loss: 1.53e-01\tVal loss: 4.65e-02 \tLR: 1.00e-03\n",
            "Fold 0 Epoch 8:\tTrain loss: 1.45e-01\tVal loss: 3.82e-02 \tLR: 1.00e-03\n",
            "Fold 0 Epoch 9:\tTrain loss: 1.41e-01\tVal loss: 3.30e-02 \tLR: 1.00e-03\n",
            "Fold 1 Epoch 0:\tTrain loss: 5.77e-01\tVal loss: 8.17e-02 \tLR: 1.00e-03\n",
            "Fold 1 Epoch 1:\tTrain loss: 2.97e-01\tVal loss: 7.07e-02 \tLR: 1.00e-03\n",
            "Fold 1 Epoch 2:\tTrain loss: 2.36e-01\tVal loss: 6.04e-02 \tLR: 1.00e-03\n",
            "Fold 1 Epoch 3:\tTrain loss: 2.04e-01\tVal loss: 6.76e-02 \tLR: 1.00e-03\n",
            "Fold 1 Epoch 4:\tTrain loss: 1.87e-01\tVal loss: 6.72e-02 \tLR: 1.00e-03\n",
            "Fold 1 Epoch 5:\tTrain loss: 1.73e-01\tVal loss: 3.46e-02 \tLR: 1.00e-03\n",
            "Fold 1 Epoch 6:\tTrain loss: 1.64e-01\tVal loss: 4.37e-02 \tLR: 1.00e-03\n",
            "Fold 1 Epoch 7:\tTrain loss: 1.53e-01\tVal loss: 2.71e-02 \tLR: 1.00e-03\n",
            "Fold 1 Epoch 8:\tTrain loss: 1.53e-01\tVal loss: 5.22e-02 \tLR: 1.00e-03\n",
            "Fold 1 Epoch 9:\tTrain loss: 1.42e-01\tVal loss: 2.58e-02 \tLR: 1.00e-03\n",
            "Fold 2 Epoch 0:\tTrain loss: 6.17e-01\tVal loss: 1.15e-01 \tLR: 1.00e-03\n",
            "Fold 2 Epoch 1:\tTrain loss: 3.50e-01\tVal loss: 1.29e-01 \tLR: 1.00e-03\n",
            "Fold 2 Epoch 2:\tTrain loss: 2.55e-01\tVal loss: 5.73e-02 \tLR: 1.00e-03\n",
            "Fold 2 Epoch 3:\tTrain loss: 2.13e-01\tVal loss: 5.98e-02 \tLR: 1.00e-03\n",
            "Fold 2 Epoch 4:\tTrain loss: 1.91e-01\tVal loss: 4.22e-02 \tLR: 1.00e-03\n",
            "Fold 2 Epoch 5:\tTrain loss: 1.80e-01\tVal loss: 4.05e-02 \tLR: 1.00e-03\n",
            "Fold 2 Epoch 6:\tTrain loss: 1.65e-01\tVal loss: 7.52e-02 \tLR: 1.00e-03\n",
            "Fold 2 Epoch 7:\tTrain loss: 1.55e-01\tVal loss: 4.21e-02 \tLR: 1.00e-03\n",
            "Fold 2 Epoch 8:\tTrain loss: 1.44e-01\tVal loss: 3.43e-02 \tLR: 1.00e-03\n",
            "Fold 2 Epoch 9:\tTrain loss: 1.38e-01\tVal loss: 3.77e-02 \tLR: 1.00e-03\n",
            "Fold 3 Epoch 0:\tTrain loss: 6.42e-01\tVal loss: 1.22e-01 \tLR: 1.00e-03\n",
            "Fold 3 Epoch 1:\tTrain loss: 3.55e-01\tVal loss: 1.06e-01 \tLR: 1.00e-03\n",
            "Fold 3 Epoch 2:\tTrain loss: 2.48e-01\tVal loss: 8.58e-02 \tLR: 1.00e-03\n",
            "Fold 3 Epoch 3:\tTrain loss: 2.09e-01\tVal loss: 5.33e-02 \tLR: 1.00e-03\n",
            "Fold 3 Epoch 4:\tTrain loss: 1.84e-01\tVal loss: 4.32e-02 \tLR: 1.00e-03\n",
            "Fold 3 Epoch 5:\tTrain loss: 1.67e-01\tVal loss: 4.00e-02 \tLR: 1.00e-03\n",
            "Fold 3 Epoch 6:\tTrain loss: 1.53e-01\tVal loss: 3.39e-02 \tLR: 1.00e-03\n",
            "Fold 3 Epoch 7:\tTrain loss: 1.42e-01\tVal loss: 3.88e-02 \tLR: 1.00e-03\n",
            "Fold 3 Epoch 8:\tTrain loss: 1.35e-01\tVal loss: 4.59e-02 \tLR: 1.00e-03\n",
            "Fold 3 Epoch 9:\tTrain loss: 1.30e-01\tVal loss: 3.05e-02 \tLR: 1.00e-03\n",
            "Fold 4 Epoch 0:\tTrain loss: 6.18e-01\tVal loss: 1.13e-01 \tLR: 1.00e-03\n",
            "Fold 4 Epoch 1:\tTrain loss: 3.36e-01\tVal loss: 1.10e-01 \tLR: 1.00e-03\n",
            "Fold 4 Epoch 2:\tTrain loss: 2.29e-01\tVal loss: 9.16e-02 \tLR: 1.00e-03\n",
            "Fold 4 Epoch 3:\tTrain loss: 1.92e-01\tVal loss: 5.90e-02 \tLR: 1.00e-03\n",
            "Fold 4 Epoch 4:\tTrain loss: 1.70e-01\tVal loss: 5.77e-02 \tLR: 1.00e-03\n",
            "Fold 4 Epoch 5:\tTrain loss: 1.57e-01\tVal loss: 3.44e-02 \tLR: 1.00e-03\n",
            "Fold 4 Epoch 6:\tTrain loss: 1.47e-01\tVal loss: 5.07e-02 \tLR: 1.00e-03\n",
            "Fold 4 Epoch 7:\tTrain loss: 1.41e-01\tVal loss: 3.18e-02 \tLR: 1.00e-03\n",
            "Fold 4 Epoch 8:\tTrain loss: 1.32e-01\tVal loss: 4.02e-02 \tLR: 1.00e-03\n",
            "Fold 4 Epoch 9:\tTrain loss: 1.31e-01\tVal loss: 4.00e-02 \tLR: 1.00e-03\n",
            "Fold 5 Epoch 0:\tTrain loss: 6.44e-01\tVal loss: 1.37e-01 \tLR: 1.00e-03\n",
            "Fold 5 Epoch 1:\tTrain loss: 3.14e-01\tVal loss: 1.00e-01 \tLR: 1.00e-03\n",
            "Fold 5 Epoch 2:\tTrain loss: 2.34e-01\tVal loss: 1.07e-01 \tLR: 1.00e-03\n",
            "Fold 5 Epoch 3:\tTrain loss: 1.97e-01\tVal loss: 6.74e-02 \tLR: 1.00e-03\n",
            "Fold 5 Epoch 4:\tTrain loss: 1.77e-01\tVal loss: 5.19e-02 \tLR: 1.00e-03\n",
            "Fold 5 Epoch 5:\tTrain loss: 1.62e-01\tVal loss: 5.43e-02 \tLR: 1.00e-03\n",
            "Fold 5 Epoch 6:\tTrain loss: 1.53e-01\tVal loss: 6.03e-02 \tLR: 1.00e-03\n",
            "Fold 5 Epoch 7:\tTrain loss: 1.47e-01\tVal loss: 2.50e-02 \tLR: 1.00e-03\n",
            "Fold 5 Epoch 8:\tTrain loss: 1.40e-01\tVal loss: 4.80e-02 \tLR: 1.00e-03\n",
            "Fold 5 Epoch 9:\tTrain loss: 1.33e-01\tVal loss: 7.59e-02 \tLR: 1.00e-03\n",
            "Fold 6 Epoch 0:\tTrain loss: 6.19e-01\tVal loss: 9.58e-02 \tLR: 1.00e-03\n",
            "Fold 6 Epoch 1:\tTrain loss: 3.69e-01\tVal loss: 8.69e-02 \tLR: 1.00e-03\n",
            "Fold 6 Epoch 2:\tTrain loss: 2.77e-01\tVal loss: 3.33e-02 \tLR: 1.00e-03\n",
            "Fold 6 Epoch 3:\tTrain loss: 2.15e-01\tVal loss: 4.83e-02 \tLR: 1.00e-03\n",
            "Fold 6 Epoch 4:\tTrain loss: 1.93e-01\tVal loss: 4.64e-02 \tLR: 1.00e-03\n",
            "Fold 6 Epoch 5:\tTrain loss: 1.75e-01\tVal loss: 6.44e-02 \tLR: 1.00e-03\n",
            "Fold 6 Epoch 6:\tTrain loss: 1.67e-01\tVal loss: 6.94e-02 \tLR: 1.00e-03\n",
            "Fold 6 Epoch 7:\tTrain loss: 1.52e-01\tVal loss: 5.58e-02 \tLR: 1.00e-04\n",
            "Fold 6 Epoch 8:\tTrain loss: 1.49e-01\tVal loss: 4.26e-02 \tLR: 1.00e-04\n",
            "Fold 6 Epoch 9:\tTrain loss: 1.49e-01\tVal loss: 4.76e-02 \tLR: 1.00e-04\n",
            "Fold 7 Epoch 0:\tTrain loss: 6.32e-01\tVal loss: 1.22e-01 \tLR: 1.00e-03\n",
            "Fold 7 Epoch 1:\tTrain loss: 3.23e-01\tVal loss: 7.79e-02 \tLR: 1.00e-03\n",
            "Fold 7 Epoch 2:\tTrain loss: 2.40e-01\tVal loss: 7.41e-02 \tLR: 1.00e-03\n",
            "Fold 7 Epoch 3:\tTrain loss: 2.01e-01\tVal loss: 5.52e-02 \tLR: 1.00e-03\n",
            "Fold 7 Epoch 4:\tTrain loss: 1.81e-01\tVal loss: 4.69e-02 \tLR: 1.00e-03\n",
            "Fold 7 Epoch 5:\tTrain loss: 1.68e-01\tVal loss: 4.34e-02 \tLR: 1.00e-03\n",
            "Fold 7 Epoch 6:\tTrain loss: 1.57e-01\tVal loss: 5.47e-02 \tLR: 1.00e-03\n",
            "Fold 7 Epoch 7:\tTrain loss: 1.48e-01\tVal loss: 4.04e-02 \tLR: 1.00e-03\n",
            "Fold 7 Epoch 8:\tTrain loss: 1.41e-01\tVal loss: 2.68e-02 \tLR: 1.00e-03\n",
            "Fold 7 Epoch 9:\tTrain loss: 1.36e-01\tVal loss: 4.87e-02 \tLR: 1.00e-03\n",
            "Fold 8 Epoch 0:\tTrain loss: 3.88e-01\tVal loss: 6.49e+00 \tLR: 1.00e-03\n",
            "Fold 8 Epoch 1:\tTrain loss: 1.73e-01\tVal loss: 5.66e+00 \tLR: 1.00e-03\n",
            "Fold 8 Epoch 2:\tTrain loss: 1.39e-01\tVal loss: 5.65e+00 \tLR: 1.00e-03\n",
            "Fold 8 Epoch 3:\tTrain loss: 1.19e-01\tVal loss: 5.78e+00 \tLR: 1.00e-03\n",
            "Fold 8 Epoch 4:\tTrain loss: 1.03e-01\tVal loss: 5.07e+00 \tLR: 1.00e-03\n",
            "Fold 8 Epoch 5:\tTrain loss: 8.82e-02\tVal loss: 4.99e+00 \tLR: 1.00e-03\n",
            "Fold 8 Epoch 6:\tTrain loss: 7.86e-02\tVal loss: 5.07e+00 \tLR: 1.00e-03\n",
            "Fold 8 Epoch 7:\tTrain loss: 7.06e-02\tVal loss: 4.66e+00 \tLR: 1.00e-03\n",
            "Fold 8 Epoch 8:\tTrain loss: 6.25e-02\tVal loss: 4.86e+00 \tLR: 1.00e-03\n",
            "Fold 8 Epoch 9:\tTrain loss: 6.07e-02\tVal loss: 5.14e+00 \tLR: 1.00e-03\n",
            "Fold 9 Epoch 0:\tTrain loss: 4.05e-01\tVal loss: 8.00e+00 \tLR: 1.00e-03\n",
            "Fold 9 Epoch 1:\tTrain loss: 2.52e-01\tVal loss: 1.32e+01 \tLR: 1.00e-03\n",
            "Fold 9 Epoch 2:\tTrain loss: 1.79e-01\tVal loss: 1.73e+01 \tLR: 1.00e-03\n",
            "Fold 9 Epoch 3:\tTrain loss: 1.35e-01\tVal loss: 1.73e+01 \tLR: 1.00e-03\n",
            "Fold 9 Epoch 4:\tTrain loss: 1.20e-01\tVal loss: 1.63e+01 \tLR: 1.00e-03\n",
            "Fold 9 Epoch 5:\tTrain loss: 1.10e-01\tVal loss: 1.70e+01 \tLR: 1.00e-04\n",
            "Fold 9 Epoch 6:\tTrain loss: 1.08e-01\tVal loss: 1.74e+01 \tLR: 1.00e-04\n",
            "Fold 9 Epoch 7:\tTrain loss: 1.07e-01\tVal loss: 1.80e+01 \tLR: 1.00e-04\n",
            "Fold 9 Epoch 8:\tTrain loss: 1.06e-01\tVal loss: 1.79e+01 \tLR: 1.00e-04\n",
            "Fold 9 Epoch 9:\tTrain loss: 1.05e-01\tVal loss: 1.78e+01 \tLR: 1.00e-05\n"
          ]
        }
      ],
      "source": [
        "epoch_train_losses = []\n",
        "epoch_val_losses = []\n",
        "\n",
        "from sklearn.model_selection import KFold\n",
        "kf = KFold(n_splits=n_splits)\n",
        "for fold_n, (train_idx, val_idx) in enumerate(kf.split(df)):\n",
        "    train_set = ds(df.iloc[train_idx,:-1], df.iloc[train_idx,-1], transforms=augment)\n",
        "    val_set = ds(df.iloc[val_idx,:-1], df.iloc[val_idx,-1])\n",
        "\n",
        "    train_loader = DataLoader(train_set, batch_size=batch_size, shuffle=True)\n",
        "    val_loader = DataLoader(val_set, batch_size=batch_size*4)\n",
        "    \n",
        "    model = Model().to(device)\n",
        "    optimizer = torch.optim.Adam(model.parameters(), lr=lr)\n",
        "    lr_sched = ReduceLROnPlateau(optimizer, patience=3)\n",
        "    for epoch in range(epochs):\n",
        "        epoch_train_loss = 0\n",
        "        epoch_val_loss = 0\n",
        "\n",
        "        model.train()\n",
        "        for batch_id, (x,y_true) in enumerate(train_loader):\n",
        "            y_pred = model(x.to(device))\n",
        "\n",
        "            optimizer.zero_grad()\n",
        "            loss = criterion(y_pred, y_true.long().to(device))\n",
        "            loss.backward()\n",
        "            optimizer.step()\n",
        "\n",
        "            epoch_train_loss += loss.item() / len(train_loader)\n",
        "\n",
        "        model.eval()\n",
        "        with torch.no_grad():\n",
        "            for batch_id, (x,y_true) in enumerate(val_loader):\n",
        "                y_pred = model(x.to(device))\n",
        "                loss = criterion(y_pred, y_true.long().to(device))\n",
        "\n",
        "                epoch_val_loss += loss.item() / len(val_loader)\n",
        "\n",
        "\n",
        "        epoch_train_losses.append(epoch_train_loss)\n",
        "        epoch_val_losses.append(epoch_val_loss)\n",
        "        print(f'Fold {fold_n} Epoch {epoch}:\\tTrain loss: {epoch_train_loss:0.2e}\\tVal loss: {epoch_val_loss:0.2e} \\tLR: {optimizer.param_groups[0][\"lr\"]:0.2e}')\n",
        "\n",
        "        if lr_sched is None:\n",
        "            if epoch % 10 == 0 and epoch > 0:\n",
        "                optimizer.param_groups[0]['lr'] /= 10\n",
        "                print(f'Reducing LR to {optimizer.param_groups[0][\"lr\"]}')\n",
        "        else:\n",
        "            lr_sched.step(epoch_val_loss)\n",
        "    torch.save(model.state_dict(), f'model_fold_{fold_n}.pth')\n",
        "\n"
      ]
    },
    {
      "cell_type": "code",
      "execution_count": 28,
      "metadata": {},
      "outputs": [
        {
          "name": "stdout",
          "output_type": "stream",
          "text": [
            "conv1.bias torch.Size([32])\n",
            "tensor([-0.3924, -0.0122, -0.3498,  0.0753,  0.2982,  0.4137, -0.1925, -0.1119,\n",
            "        -0.2299, -0.3505, -0.1704,  0.0193,  0.4179, -0.3382,  0.1687, -0.0929,\n",
            "        -0.1910, -0.0508,  0.1962, -0.0218, -0.4206, -0.3470,  0.1364,  0.2700,\n",
            "         0.1981, -0.2701,  0.3126,  0.2938, -0.0857,  0.1718,  0.1255, -0.1923])\n",
            "conv2.bias torch.Size([32])\n",
            "tensor([-0.0044, -0.0348,  0.0584,  0.0355, -0.1115, -0.1244, -0.0221,  0.0784,\n",
            "         0.0099, -0.0251,  0.0784, -0.0084, -0.0189,  0.0104,  0.0006,  0.0407,\n",
            "         0.0368, -0.1021,  0.0248, -0.0636, -0.0536, -0.0285, -0.0271,  0.0657,\n",
            "        -0.0721,  0.0204, -0.0507, -0.0542, -0.0182, -0.0437,  0.0271,  0.0591])\n",
            "conv3.bias torch.Size([32])\n",
            "tensor([-0.0412, -0.0516,  0.0823,  0.0191,  0.0041,  0.0691,  0.0340, -0.0446,\n",
            "         0.0318, -0.0484, -0.0114,  0.0310, -0.0391,  0.0554,  0.0642,  0.1234,\n",
            "         0.0480,  0.0540, -0.0238, -0.0498,  0.0650, -0.0671,  0.0443, -0.1898,\n",
            "         0.0098,  0.0089,  0.0544,  0.0179, -0.0870, -0.0127,  0.0089, -0.0276])\n",
            "conv4.bias torch.Size([32])\n",
            "tensor([ 0.0694, -0.0298,  0.0367,  0.0383,  0.1107, -0.0998,  0.0512,  0.0301,\n",
            "         0.0125, -0.0980, -0.0613,  0.0285,  0.0346,  0.1010,  0.0799, -0.0549,\n",
            "        -0.0864,  0.0738,  0.1046,  0.0431, -0.0841,  0.0299, -0.0503,  0.0847,\n",
            "        -0.0628,  0.0320, -0.0034,  0.0558, -0.0069,  0.0489,  0.0385,  0.0198])\n"
          ]
        }
      ],
      "source": [
        "for name, param in model.named_parameters():\n",
        "    if 'conv' in name and 'bias' in name:\n",
        "        print(name, param.shape)\n",
        "        print(param.data)"
      ]
    },
    {
      "cell_type": "code",
      "execution_count": 29,
      "metadata": {},
      "outputs": [
        {
          "name": "stdout",
          "output_type": "stream",
          "text": [
            "conv1.weight torch.Size([32, 1, 5])\n",
            "tensor([[[ 0.3119, -0.0038,  0.0999, -0.0142, -0.3336]],\n",
            "\n",
            "        [[-0.2564, -0.2098, -0.1829,  0.2058,  0.4627]],\n",
            "\n",
            "        [[-0.0124,  0.5861, -0.0805,  0.1986,  0.2144]],\n",
            "\n",
            "        [[-0.0162, -0.2597, -0.2377,  0.3558, -0.0223]],\n",
            "\n",
            "        [[-0.1247, -0.4538, -0.4475,  0.2613,  0.0382]],\n",
            "\n",
            "        [[ 0.4313,  0.0784,  0.2349, -0.1268, -0.3342]],\n",
            "\n",
            "        [[-0.3510,  0.6080,  0.5641, -0.7594, -0.4222]],\n",
            "\n",
            "        [[ 0.4165,  0.4927,  0.0583, -0.2950, -0.4218]],\n",
            "\n",
            "        [[-0.1959, -0.2854, -0.1939,  0.0049,  0.3505]],\n",
            "\n",
            "        [[ 0.2095, -0.3601, -0.1599, -0.2293,  0.1957]],\n",
            "\n",
            "        [[ 0.1617, -0.3796, -0.0832,  0.0174, -0.2211]],\n",
            "\n",
            "        [[-0.4093,  0.0611,  0.0287,  0.2407,  0.2325]],\n",
            "\n",
            "        [[-0.2100, -0.0176,  0.1037, -0.5236, -0.1054]],\n",
            "\n",
            "        [[ 0.2154,  0.1019,  0.2941,  0.2954, -0.2646]],\n",
            "\n",
            "        [[-0.1597,  0.1877, -0.3960, -0.1791,  0.1315]],\n",
            "\n",
            "        [[-0.3283, -0.1599,  0.2896,  0.3838,  0.2431]],\n",
            "\n",
            "        [[ 0.4110, -0.3829, -0.3684,  0.4944,  0.0483]],\n",
            "\n",
            "        [[-0.3132, -0.4050, -0.1008,  0.5542,  0.5073]],\n",
            "\n",
            "        [[-0.3648, -0.2770,  0.3090,  0.2289,  0.1281]],\n",
            "\n",
            "        [[-0.2865, -0.0568, -0.2273,  0.1991,  0.4516]],\n",
            "\n",
            "        [[-0.7173, -0.3479, -0.0900,  0.3563,  0.3822]],\n",
            "\n",
            "        [[-0.4262,  0.0548, -0.1620,  0.3470, -0.3147]],\n",
            "\n",
            "        [[-0.2144,  0.2260,  0.3581, -0.1613, -0.6059]],\n",
            "\n",
            "        [[-0.3514, -0.4207, -0.1754,  0.0045,  0.1670]],\n",
            "\n",
            "        [[-0.5057,  0.2921, -0.3725,  0.3367,  0.0671]],\n",
            "\n",
            "        [[ 0.4890, -0.0410,  0.0436,  0.2834, -0.6959]],\n",
            "\n",
            "        [[-0.3505, -0.0469, -0.3358,  0.4178,  0.4093]],\n",
            "\n",
            "        [[ 0.3707,  0.3886,  0.0756,  0.2847,  0.4330]],\n",
            "\n",
            "        [[ 0.2722,  0.0382,  0.1482,  0.3151, -0.0715]],\n",
            "\n",
            "        [[-0.4161,  0.3890, -0.3012, -0.0329,  0.3365]],\n",
            "\n",
            "        [[-0.0133, -0.2314, -0.1856,  0.0779,  0.0415]],\n",
            "\n",
            "        [[-0.2261,  0.4227,  0.2304,  0.3953,  0.0332]]])\n",
            "conv1.bias torch.Size([32])\n",
            "tensor([-0.3924, -0.0122, -0.3498,  0.0753,  0.2982,  0.4137, -0.1925, -0.1119,\n",
            "        -0.2299, -0.3505, -0.1704,  0.0193,  0.4179, -0.3382,  0.1687, -0.0929,\n",
            "        -0.1910, -0.0508,  0.1962, -0.0218, -0.4206, -0.3470,  0.1364,  0.2700,\n",
            "         0.1981, -0.2701,  0.3126,  0.2938, -0.0857,  0.1718,  0.1255, -0.1923])\n",
            "conv2.weight torch.Size([32, 32, 5])\n",
            "tensor([[[-0.0591, -0.0472, -0.0041, -0.0233, -0.0474],\n",
            "         [-0.0168, -0.0515, -0.0792,  0.0224, -0.0403],\n",
            "         [-0.0312,  0.0474, -0.0564,  0.0310,  0.0720],\n",
            "         ...,\n",
            "         [-0.0270, -0.0326, -0.0189,  0.0113,  0.0228],\n",
            "         [-0.0253,  0.0712, -0.0060,  0.0275, -0.0281],\n",
            "         [ 0.0121,  0.0707, -0.0459,  0.0237, -0.0117]],\n",
            "\n",
            "        [[ 0.0219,  0.1072,  0.1140,  0.0061,  0.1171],\n",
            "         [ 0.2361,  0.1167,  0.2265,  0.1599,  0.1843],\n",
            "         [ 0.0466, -0.0395,  0.1464,  0.0910,  0.2391],\n",
            "         ...,\n",
            "         [ 0.0556,  0.0630, -0.0006,  0.0944, -0.0132],\n",
            "         [ 0.0411, -0.0464,  0.0275, -0.1230, -0.2251],\n",
            "         [ 0.0885,  0.0065,  0.0396,  0.1086,  0.1416]],\n",
            "\n",
            "        [[ 0.0072,  0.0633,  0.1098, -0.0065,  0.0998],\n",
            "         [ 0.1841,  0.0262,  0.0574,  0.1198, -0.0173],\n",
            "         [ 0.2974,  0.2707,  0.2419,  0.1612,  0.3116],\n",
            "         ...,\n",
            "         [-0.0114, -0.0037,  0.0632, -0.0747,  0.0150],\n",
            "         [ 0.0761,  0.0454,  0.0306, -0.0106, -0.0429],\n",
            "         [ 0.0364,  0.1397,  0.0681,  0.0721, -0.0683]],\n",
            "\n",
            "        ...,\n",
            "\n",
            "        [[ 0.3767,  0.2527,  0.2937,  0.2958,  0.3761],\n",
            "         [ 0.3447,  0.1526, -0.0057,  0.1516,  0.4189],\n",
            "         [ 0.2108,  0.3740,  0.2694,  0.3237,  0.2916],\n",
            "         ...,\n",
            "         [-0.0750, -0.1062, -0.0518,  0.0472, -0.0391],\n",
            "         [ 0.1454,  0.1515,  0.0593, -0.0589, -0.0739],\n",
            "         [-0.0258, -0.0166,  0.0652, -0.0072,  0.1282]],\n",
            "\n",
            "        [[-0.0176,  0.0679,  0.0892,  0.1198,  0.0629],\n",
            "         [ 0.2804,  0.2837,  0.2338,  0.2290,  0.1105],\n",
            "         [-0.1391,  0.1267,  0.1476,  0.0292,  0.0963],\n",
            "         ...,\n",
            "         [-0.0634,  0.0491, -0.0330,  0.0555,  0.0343],\n",
            "         [ 0.2407,  0.1713, -0.0026, -0.1565, -0.1246],\n",
            "         [ 0.0080, -0.0199,  0.0212, -0.0289,  0.0851]],\n",
            "\n",
            "        [[-0.0240,  0.0007,  0.0564, -0.0589,  0.0129],\n",
            "         [-0.0372, -0.0408, -0.0532, -0.0007,  0.0661],\n",
            "         [-0.0841, -0.0039,  0.0559, -0.0112, -0.0018],\n",
            "         ...,\n",
            "         [-0.0491, -0.0175, -0.0428, -0.0869, -0.0392],\n",
            "         [ 0.0179, -0.0239,  0.0577, -0.0390,  0.0730],\n",
            "         [-0.0619, -0.0352,  0.0582, -0.0019, -0.0639]]])\n",
            "conv2.bias torch.Size([32])\n",
            "tensor([-0.0044, -0.0348,  0.0584,  0.0355, -0.1115, -0.1244, -0.0221,  0.0784,\n",
            "         0.0099, -0.0251,  0.0784, -0.0084, -0.0189,  0.0104,  0.0006,  0.0407,\n",
            "         0.0368, -0.1021,  0.0248, -0.0636, -0.0536, -0.0285, -0.0271,  0.0657,\n",
            "        -0.0721,  0.0204, -0.0507, -0.0542, -0.0182, -0.0437,  0.0271,  0.0591])\n",
            "conv3.weight torch.Size([32, 32, 5])\n",
            "tensor([[[ 0.0180, -0.0053, -0.0180,  0.0090, -0.0154],\n",
            "         [-0.0845,  0.0357, -0.0551, -0.0286, -0.0280],\n",
            "         [ 0.0467,  0.0019, -0.0659,  0.0085, -0.0924],\n",
            "         ...,\n",
            "         [ 0.0631, -0.0492,  0.0524,  0.0454, -0.0144],\n",
            "         [-0.0457, -0.0748, -0.0655, -0.0073, -0.0264],\n",
            "         [ 0.0711,  0.0635, -0.0166,  0.0785,  0.0223]],\n",
            "\n",
            "        [[ 0.0220,  0.0394, -0.0322, -0.0489, -0.0483],\n",
            "         [-0.0490,  0.0157,  0.0369, -0.0704,  0.0319],\n",
            "         [-0.0675, -0.0318,  0.0252, -0.0755, -0.0089],\n",
            "         ...,\n",
            "         [ 0.0347,  0.0230,  0.0297, -0.0228, -0.0600],\n",
            "         [-0.0362, -0.0556,  0.0618, -0.0241, -0.0243],\n",
            "         [ 0.0167,  0.0419,  0.0313, -0.0640,  0.0080]],\n",
            "\n",
            "        [[-0.0146, -0.0535, -0.0474, -0.0444, -0.0676],\n",
            "         [-0.0475, -0.0938,  0.2931,  0.1744,  0.0845],\n",
            "         [-0.1370, -0.1366,  0.1553,  0.1517,  0.1140],\n",
            "         ...,\n",
            "         [ 0.1957,  0.2328,  0.3695,  0.0595, -0.2048],\n",
            "         [ 0.0141, -0.0852,  0.2156,  0.2090,  0.0473],\n",
            "         [-0.0376, -0.0257,  0.0127,  0.0709, -0.0314]],\n",
            "\n",
            "        ...,\n",
            "\n",
            "        [[ 0.0064,  0.0281,  0.0666, -0.0232,  0.0734],\n",
            "         [-0.0132, -0.0371, -0.0619, -0.0390,  0.0484],\n",
            "         [-0.0355, -0.0506, -0.0171, -0.0295,  0.0075],\n",
            "         ...,\n",
            "         [-0.0407, -0.0676, -0.0378, -0.0230, -0.0085],\n",
            "         [-0.0473,  0.0153, -0.0563, -0.0367, -0.0762],\n",
            "         [-0.0756,  0.0098, -0.0243,  0.0191, -0.0337]],\n",
            "\n",
            "        [[-0.0098,  0.0417, -0.0626, -0.0787, -0.0397],\n",
            "         [-0.0629,  0.0527,  0.0512, -0.0039, -0.0977],\n",
            "         [-0.0711,  0.0181, -0.0930,  0.0272, -0.0087],\n",
            "         ...,\n",
            "         [-0.0192, -0.0132, -0.0382,  0.0835, -0.0047],\n",
            "         [ 0.0506, -0.0844, -0.0502, -0.0689, -0.0206],\n",
            "         [-0.0274, -0.0175, -0.0083, -0.0378,  0.0694]],\n",
            "\n",
            "        [[ 0.0682,  0.0450,  0.0031,  0.0420, -0.0112],\n",
            "         [-0.0188, -0.0152, -0.0439, -0.0381, -0.0587],\n",
            "         [ 0.0367,  0.0363, -0.0395, -0.0167, -0.0316],\n",
            "         ...,\n",
            "         [ 0.0747, -0.0218, -0.0391,  0.0502,  0.0287],\n",
            "         [-0.0746,  0.0068, -0.0240, -0.0104, -0.0784],\n",
            "         [-0.0262,  0.0041,  0.0546,  0.0234, -0.0075]]])\n",
            "conv3.bias torch.Size([32])\n",
            "tensor([-0.0412, -0.0516,  0.0823,  0.0191,  0.0041,  0.0691,  0.0340, -0.0446,\n",
            "         0.0318, -0.0484, -0.0114,  0.0310, -0.0391,  0.0554,  0.0642,  0.1234,\n",
            "         0.0480,  0.0540, -0.0238, -0.0498,  0.0650, -0.0671,  0.0443, -0.1898,\n",
            "         0.0098,  0.0089,  0.0544,  0.0179, -0.0870, -0.0127,  0.0089, -0.0276])\n",
            "conv4.weight torch.Size([32, 32, 5])\n",
            "tensor([[[ 0.0024,  0.0376, -0.0749, -0.0348, -0.0486],\n",
            "         [-0.0710,  0.0579,  0.0014, -0.0404,  0.0017],\n",
            "         [ 0.5035,  0.0861,  0.2598, -0.2497, -0.2449],\n",
            "         ...,\n",
            "         [-0.0623, -0.0712,  0.0556, -0.0774, -0.0303],\n",
            "         [-0.0678,  0.0140, -0.0514,  0.0305, -0.0599],\n",
            "         [ 0.0185, -0.0367,  0.0101,  0.0173,  0.0775]],\n",
            "\n",
            "        [[-0.0425, -0.0047, -0.0389,  0.0415, -0.0452],\n",
            "         [ 0.0707, -0.0134,  0.0226,  0.0704,  0.0629],\n",
            "         [ 0.0169,  0.0874, -0.0067,  0.0101,  0.0188],\n",
            "         ...,\n",
            "         [ 0.0444,  0.0401, -0.0554, -0.0636,  0.0191],\n",
            "         [-0.0350, -0.0605, -0.0228, -0.0383,  0.0162],\n",
            "         [ 0.0548, -0.0074, -0.0078, -0.0175, -0.0522]],\n",
            "\n",
            "        [[-0.0186, -0.0083, -0.0211,  0.0952, -0.0393],\n",
            "         [ 0.0232, -0.0774,  0.0619, -0.0777,  0.0450],\n",
            "         [-0.2064, -0.1118,  0.0813,  0.1771,  0.0067],\n",
            "         ...,\n",
            "         [-0.0326, -0.0419, -0.0346,  0.0245,  0.0246],\n",
            "         [-0.0149, -0.0320,  0.0080, -0.0319, -0.0340],\n",
            "         [-0.0578,  0.0487,  0.0202,  0.0025, -0.0609]],\n",
            "\n",
            "        ...,\n",
            "\n",
            "        [[-0.0530, -0.0439, -0.0479, -0.0266,  0.0665],\n",
            "         [-0.0718,  0.0530, -0.0235,  0.0293,  0.0184],\n",
            "         [-0.0736, -0.0522, -0.0609, -0.0514, -0.0232],\n",
            "         ...,\n",
            "         [-0.0321,  0.0480, -0.0726,  0.0636, -0.0457],\n",
            "         [-0.0692, -0.0708,  0.0352, -0.0268,  0.0269],\n",
            "         [ 0.0087,  0.0263, -0.0410, -0.0278,  0.0509]],\n",
            "\n",
            "        [[-0.0776,  0.0482,  0.0641,  0.0394,  0.0614],\n",
            "         [-0.0652, -0.0693, -0.0438,  0.0353, -0.0403],\n",
            "         [-0.0160,  0.0221, -0.0558, -0.0224, -0.0512],\n",
            "         ...,\n",
            "         [-0.0410,  0.0623, -0.0125,  0.0496,  0.0749],\n",
            "         [ 0.0316, -0.0392, -0.0265,  0.0124, -0.0252],\n",
            "         [-0.0193,  0.0787,  0.0254,  0.0136, -0.0136]],\n",
            "\n",
            "        [[-0.0353,  0.0465,  0.0775,  0.0061, -0.0389],\n",
            "         [-0.0513, -0.0294,  0.0628, -0.0445, -0.0451],\n",
            "         [-0.0723, -0.0510,  0.0445, -0.0281, -0.0063],\n",
            "         ...,\n",
            "         [-0.0050, -0.0085, -0.0212,  0.0217,  0.0177],\n",
            "         [-0.0403, -0.0585, -0.0229, -0.0304,  0.0152],\n",
            "         [-0.0751, -0.0349, -0.0472, -0.0485, -0.0490]]])\n",
            "conv4.bias torch.Size([32])\n",
            "tensor([ 0.0694, -0.0298,  0.0367,  0.0383,  0.1107, -0.0998,  0.0512,  0.0301,\n",
            "         0.0125, -0.0980, -0.0613,  0.0285,  0.0346,  0.1010,  0.0799, -0.0549,\n",
            "        -0.0864,  0.0738,  0.1046,  0.0431, -0.0841,  0.0299, -0.0503,  0.0847,\n",
            "        -0.0628,  0.0320, -0.0034,  0.0558, -0.0069,  0.0489,  0.0385,  0.0198])\n"
          ]
        }
      ],
      "source": [
        "for name, param in model.named_parameters():\n",
        "    if 'conv' in name: # Filter the convolutional layers\n",
        "        print(name, param.shape)\n",
        "        print(param.data)"
      ]
    },
    {
      "cell_type": "markdown",
      "metadata": {
        "id": "L3AlsFcDcFTt"
      },
      "source": [
        "Notice we decrease the learning rate throughout training. Learning rate modulation is an active area of research. \n",
        "\n",
        "Lets see what we got."
      ]
    },
    {
      "cell_type": "code",
      "execution_count": 30,
      "metadata": {
        "colab": {
          "base_uri": "https://localhost:8080/",
          "height": 342
        },
        "id": "RAcGJqAEcFTt",
        "outputId": "92986e86-e5b4-4c71-8fc1-a89efaf2a48e"
      },
      "outputs": [
        {
          "data": {
            "image/png": "[encoded data removed]",
            "text/plain": [
              "<Figure size 1000x500 with 1 Axes>"
            ]
          },
          "metadata": {},
          "output_type": "display_data"
        }
      ],
      "source": [
        "plt.plot(np.arange(len(epoch_train_losses)), epoch_train_losses)\n",
        "plt.plot(np.arange(len(epoch_val_losses)), epoch_val_losses)\n",
        "plt.legend(['training loss','validation loss'])\n",
        "plt.xlabel('Epoch')\n",
        "plt.ylabel('Loss')\n",
        "plt.yscale('log')"
      ]
    },
    {
      "cell_type": "markdown",
      "metadata": {
        "id": "CiaoqlkFcFTt"
      },
      "source": [
        "We should see the loss converge. The training set loss should be monotone (though it colud be not). Some amount of overfit is acceptable, but wometimes we need to use some ragularization (that was not used here)."
      ]
    },
    {
      "cell_type": "markdown",
      "metadata": {
        "id": "ddH_kQaRcFTt"
      },
      "source": [
        "## Test the model - Validation set\n",
        "\n",
        "Up until now we discussed loss - not actual performane. Now is the time to consider accuracy. We first examine the different metrics on the validation set. "
      ]
    },
    {
      "cell_type": "code",
      "execution_count": 31,
      "metadata": {
        "colab": {
          "base_uri": "https://localhost:8080/",
          "height": 238
        },
        "id": "IYnJPDd9cFTt",
        "outputId": "3ae15d31-c8a2-4c17-f8c3-9532bdd75803"
      },
      "outputs": [
        {
          "data": {
            "text/html": [
              "<div>\n",
              "<style scoped>\n",
              "    .dataframe tbody tr th:only-of-type {\n",
              "        vertical-align: middle;\n",
              "    }\n",
              "\n",
              "    .dataframe tbody tr th {\n",
              "        vertical-align: top;\n",
              "    }\n",
              "\n",
              "    .dataframe thead th {\n",
              "        text-align: right;\n",
              "    }\n",
              "</style>\n",
              "<table border=\"1\" class=\"dataframe\">\n",
              "  <thead>\n",
              "    <tr style=\"text-align: right;\">\n",
              "      <th>Prediction</th>\n",
              "      <th>0.0</th>\n",
              "      <th>1.0</th>\n",
              "      <th>2.0</th>\n",
              "    </tr>\n",
              "    <tr>\n",
              "      <th>Label</th>\n",
              "      <th></th>\n",
              "      <th></th>\n",
              "      <th></th>\n",
              "    </tr>\n",
              "  </thead>\n",
              "  <tbody>\n",
              "    <tr>\n",
              "      <th>2.0</th>\n",
              "      <td>220.0</td>\n",
              "      <td>NaN</td>\n",
              "      <td>1463.0</td>\n",
              "    </tr>\n",
              "    <tr>\n",
              "      <th>3.0</th>\n",
              "      <td>528.0</td>\n",
              "      <td>NaN</td>\n",
              "      <td>113.0</td>\n",
              "    </tr>\n",
              "    <tr>\n",
              "      <th>4.0</th>\n",
              "      <td>3168.0</td>\n",
              "      <td>2.0</td>\n",
              "      <td>3261.0</td>\n",
              "    </tr>\n",
              "  </tbody>\n",
              "</table>\n",
              "</div>"
            ],
            "text/plain": [
              "Prediction     0.0  1.0     2.0\n",
              "Label                          \n",
              "2.0          220.0  NaN  1463.0\n",
              "3.0          528.0  NaN   113.0\n",
              "4.0         3168.0  2.0  3261.0"
            ]
          },
          "execution_count": 31,
          "metadata": {},
          "output_type": "execute_result"
        }
      ],
      "source": [
        "predictions = []\n",
        "labels = []\n",
        "\n",
        "model.eval()\n",
        "with torch.no_grad():\n",
        "    for batch_id, (x,y_true) in enumerate(val_loader):\n",
        "        y_pred = model(x.to(device)).argmax(1)\n",
        "        \n",
        "        predictions.extend(y_pred.squeeze().tolist())\n",
        "        labels.extend(y_true.squeeze().tolist())\n",
        "        \n",
        "prediction_labels = pd.DataFrame(np.array([predictions, labels]).T, columns=['Prediction', 'Label'])\n",
        "cm = prediction_labels.groupby(['Prediction', 'Label']).size()\n",
        "cm.unstack(0)"
      ]
    },
    {
      "cell_type": "code",
      "execution_count": 32,
      "metadata": {
        "colab": {
          "base_uri": "https://localhost:8080/"
        },
        "id": "sG-snMThcFTt",
        "outputId": "17d1c1f8-78f8-44c3-d9cb-ccbf569785ff"
      },
      "outputs": [
        {
          "name": "stdout",
          "output_type": "stream",
          "text": [
            "              precision    recall  f1-score   support\n",
            "\n",
            "         0.0       0.00      0.00      0.00      3916\n",
            "         1.0       0.00      0.00      0.00         2\n",
            "         2.0       0.87      0.30      0.45      4837\n",
            "         3.0       0.00      0.00      0.00         0\n",
            "         4.0       0.00      0.00      0.00         0\n",
            "\n",
            "    accuracy                           0.17      8755\n",
            "   macro avg       0.17      0.06      0.09      8755\n",
            "weighted avg       0.48      0.17      0.25      8755\n",
            "\n"
          ]
        },
        {
          "name": "stderr",
          "output_type": "stream",
          "text": [
            "/usr/local/lib/python3.11/site-packages/sklearn/metrics/_classification.py:1344: UndefinedMetricWarning: Precision and F-score are ill-defined and being set to 0.0 in labels with no predicted samples. Use `zero_division` parameter to control this behavior.\n",
            "  _warn_prf(average, modifier, msg_start, len(result))\n",
            "/usr/local/lib/python3.11/site-packages/sklearn/metrics/_classification.py:1344: UndefinedMetricWarning: Recall and F-score are ill-defined and being set to 0.0 in labels with no true samples. Use `zero_division` parameter to control this behavior.\n",
            "  _warn_prf(average, modifier, msg_start, len(result))\n",
            "/usr/local/lib/python3.11/site-packages/sklearn/metrics/_classification.py:1344: UndefinedMetricWarning: Precision and F-score are ill-defined and being set to 0.0 in labels with no predicted samples. Use `zero_division` parameter to control this behavior.\n",
            "  _warn_prf(average, modifier, msg_start, len(result))\n",
            "/usr/local/lib/python3.11/site-packages/sklearn/metrics/_classification.py:1344: UndefinedMetricWarning: Recall and F-score are ill-defined and being set to 0.0 in labels with no true samples. Use `zero_division` parameter to control this behavior.\n",
            "  _warn_prf(average, modifier, msg_start, len(result))\n",
            "/usr/local/lib/python3.11/site-packages/sklearn/metrics/_classification.py:1344: UndefinedMetricWarning: Precision and F-score are ill-defined and being set to 0.0 in labels with no predicted samples. Use `zero_division` parameter to control this behavior.\n",
            "  _warn_prf(average, modifier, msg_start, len(result))\n",
            "/usr/local/lib/python3.11/site-packages/sklearn/metrics/_classification.py:1344: UndefinedMetricWarning: Recall and F-score are ill-defined and being set to 0.0 in labels with no true samples. Use `zero_division` parameter to control this behavior.\n",
            "  _warn_prf(average, modifier, msg_start, len(result))\n"
          ]
        }
      ],
      "source": [
        "print(classification_report(predictions, labels))"
      ]
    },
    {
      "cell_type": "markdown",
      "metadata": {
        "id": "mYeXrPftcFTu"
      },
      "source": [
        "## Test the model - Test set"
      ]
    },
    {
      "cell_type": "code",
      "execution_count": 33,
      "metadata": {
        "colab": {
          "base_uri": "https://localhost:8080/",
          "height": 238
        },
        "id": "W1ScD8chcFTu",
        "outputId": "843180cd-1492-47fc-890f-0e8dace42943"
      },
      "outputs": [
        {
          "data": {
            "text/html": [
              "<div>\n",
              "<style scoped>\n",
              "    .dataframe tbody tr th:only-of-type {\n",
              "        vertical-align: middle;\n",
              "    }\n",
              "\n",
              "    .dataframe tbody tr th {\n",
              "        vertical-align: top;\n",
              "    }\n",
              "\n",
              "    .dataframe thead th {\n",
              "        text-align: right;\n",
              "    }\n",
              "</style>\n",
              "<table border=\"1\" class=\"dataframe\">\n",
              "  <thead>\n",
              "    <tr style=\"text-align: right;\">\n",
              "      <th>Prediction</th>\n",
              "      <th>0.0</th>\n",
              "      <th>1.0</th>\n",
              "      <th>2.0</th>\n",
              "      <th>3.0</th>\n",
              "      <th>4.0</th>\n",
              "    </tr>\n",
              "    <tr>\n",
              "      <th>Label</th>\n",
              "      <th></th>\n",
              "      <th></th>\n",
              "      <th></th>\n",
              "      <th></th>\n",
              "      <th></th>\n",
              "    </tr>\n",
              "  </thead>\n",
              "  <tbody>\n",
              "    <tr>\n",
              "      <th>0.0</th>\n",
              "      <td>18058.0</td>\n",
              "      <td>22.0</td>\n",
              "      <td>31.0</td>\n",
              "      <td>3.0</td>\n",
              "      <td>4.0</td>\n",
              "    </tr>\n",
              "    <tr>\n",
              "      <th>1.0</th>\n",
              "      <td>236.0</td>\n",
              "      <td>308.0</td>\n",
              "      <td>12.0</td>\n",
              "      <td>NaN</td>\n",
              "      <td>NaN</td>\n",
              "    </tr>\n",
              "    <tr>\n",
              "      <th>2.0</th>\n",
              "      <td>141.0</td>\n",
              "      <td>NaN</td>\n",
              "      <td>1278.0</td>\n",
              "      <td>23.0</td>\n",
              "      <td>6.0</td>\n",
              "    </tr>\n",
              "    <tr>\n",
              "      <th>3.0</th>\n",
              "      <td>71.0</td>\n",
              "      <td>NaN</td>\n",
              "      <td>18.0</td>\n",
              "      <td>73.0</td>\n",
              "      <td>NaN</td>\n",
              "    </tr>\n",
              "    <tr>\n",
              "      <th>4.0</th>\n",
              "      <td>75.0</td>\n",
              "      <td>NaN</td>\n",
              "      <td>10.0</td>\n",
              "      <td>NaN</td>\n",
              "      <td>1523.0</td>\n",
              "    </tr>\n",
              "  </tbody>\n",
              "</table>\n",
              "</div>"
            ],
            "text/plain": [
              "Prediction      0.0    1.0     2.0   3.0     4.0\n",
              "Label                                           \n",
              "0.0         18058.0   22.0    31.0   3.0     4.0\n",
              "1.0           236.0  308.0    12.0   NaN     NaN\n",
              "2.0           141.0    NaN  1278.0  23.0     6.0\n",
              "3.0            71.0    NaN    18.0  73.0     NaN\n",
              "4.0            75.0    NaN    10.0   NaN  1523.0"
            ]
          },
          "execution_count": 33,
          "metadata": {},
          "output_type": "execute_result"
        }
      ],
      "source": [
        "test_set = ds(test_df.iloc[:,:-1], test_df.iloc[:,-1])\n",
        "test_loader = DataLoader(test_set, batch_size=batch_size*4, shuffle=False)\n",
        "\n",
        "predictions = []\n",
        "\n",
        "model.eval()\n",
        "with torch.no_grad():\n",
        "    for fold in range(n_splits):\n",
        "        model = Model().to(device)\n",
        "        model.load_state_dict(torch.load(f'model_fold_{fold}.pth'))\n",
        "        model.eval()\n",
        "        \n",
        "        fold_predictions = []\n",
        "        labels = []\n",
        "        for batch_id, (x,y_true) in enumerate(test_loader):\n",
        "            y_pred = model(x.to(device)).argmax(1)\n",
        "\n",
        "            fold_predictions.extend(y_pred.squeeze().tolist())\n",
        "            labels.extend(y_true.squeeze().tolist())\n",
        "        predictions.append(fold_predictions)\n",
        "    \n",
        "predictions.append(labels)\n",
        "all_prediction_labels = pd.DataFrame(\n",
        "    np.array(predictions).T, \n",
        "    columns=[f'fold {n}' for n in range(n_splits)] + ['Label']\n",
        "#     columns=['fold 0', 'fold 1', 'fold 2','fold 3','fold 4', 'Label'],\n",
        "#     columns=['fold 0', 'fold 1', 'fold 3', 'Label']\n",
        ")\n",
        "\n",
        "final_predictions = all_prediction_labels.iloc[:,:-1].mode(1).iloc[:,0]\n",
        "prediction_labels = pd.DataFrame(\n",
        "    np.hstack([\n",
        "        final_predictions.values.reshape(-1,1), \n",
        "        all_prediction_labels.loc[:,'Label'].values.reshape(-1,1)]\n",
        "    ),\n",
        "    columns=['Prediction', 'Label']\n",
        ")\n",
        "prediction_labels\n",
        "\n",
        "cm = prediction_labels.groupby(['Prediction', 'Label']).size()\n",
        "cm.unstack(0)"
      ]
    },
    {
      "cell_type": "code",
      "execution_count": 35,
      "metadata": {
        "id": "V5UzU6tZcFTv"
      },
      "outputs": [
        {
          "name": "stdout",
          "output_type": "stream",
          "text": [
            "              precision    recall  f1-score   support\n",
            "\n",
            "         0.0       1.00      0.97      0.98     18581\n",
            "         1.0       0.55      0.93      0.70       330\n",
            "         2.0       0.88      0.95      0.91      1349\n",
            "         3.0       0.45      0.74      0.56        99\n",
            "         4.0       0.95      0.99      0.97      1533\n",
            "\n",
            "    accuracy                           0.97     21892\n",
            "   macro avg       0.77      0.92      0.82     21892\n",
            "weighted avg       0.98      0.97      0.97     21892\n",
            "\n"
          ]
        }
      ],
      "source": [
        "predictions = prediction_labels.loc[:,'Prediction'].values\n",
        "labels = prediction_labels.loc[:,'Label'].values\n",
        "print(classification_report(predictions, labels))"
      ]
    }
  ],
  "metadata": {
    "accelerator": "GPU",
    "colab": {
      "provenance": []
    },
    "gpuClass": "standard",
    "kernelspec": {
      "display_name": "Python 3",
      "language": "python",
      "name": "python3"
    },
    "language_info": {
      "codemirror_mode": {
        "name": "ipython",
        "version": 3
      },
      "file_extension": ".py",
      "mimetype": "text/x-python",
      "name": "python",
      "nbconvert_exporter": "python",
      "pygments_lexer": "ipython3",
      "version": "3.11.2"
    },
    "vscode": {
      "interpreter": {
        "hash": "aee8b7b246df8f9039afb4144a1f6fd8d2ca17a180786b69acc140d282b71a49"
      }
    }
  },
  "nbformat": 4,
  "nbformat_minor": 0
}
